{
 "cells": [
  {
   "cell_type": "code",
   "execution_count": 1,
   "id": "9aa1e8dc",
   "metadata": {},
   "outputs": [],
   "source": [
    "import torch"
   ]
  },
  {
   "cell_type": "code",
   "execution_count": 2,
   "id": "4ca9b73d",
   "metadata": {},
   "outputs": [],
   "source": [
    "# N: Number of rows\n",
    "# D: Number of Columns\n",
    "N, D=3,4"
   ]
  },
  {
   "cell_type": "code",
   "execution_count": 4,
   "id": "9e01a93c",
   "metadata": {},
   "outputs": [],
   "source": [
    "x=torch.rand((N,D),requires_grad=True)\n",
    "y=torch.rand((N,D),requires_grad=True)\n",
    "z=torch.rand((N,D),requires_grad=True)"
   ]
  },
  {
   "cell_type": "code",
   "execution_count": 6,
   "id": "497d06a8",
   "metadata": {},
   "outputs": [
    {
     "name": "stdout",
     "output_type": "stream",
     "text": [
      "x= tensor([[0.2844, 0.0591, 0.2247, 0.2467],\n",
      "        [0.3867, 0.2330, 0.2553, 0.2892],\n",
      "        [0.4360, 0.7861, 0.0680, 0.8638]], requires_grad=True)\n",
      "y= tensor([[0.2027, 0.7543, 0.2512, 0.3902],\n",
      "        [0.1939, 0.2393, 0.2279, 0.1345],\n",
      "        [0.4603, 0.9006, 0.8136, 0.0326]], requires_grad=True)\n",
      "z= tensor([[0.6578, 0.5228, 0.8668, 0.4213],\n",
      "        [0.0238, 0.0615, 0.3081, 0.2302],\n",
      "        [0.1993, 0.6425, 0.7935, 0.3425]], requires_grad=True)\n"
     ]
    }
   ],
   "source": [
    "print(\"x=\",x)\n",
    "print(\"y=\",y)\n",
    "print(\"z=\",z)"
   ]
  },
  {
   "cell_type": "code",
   "execution_count": 5,
   "id": "d64217fe",
   "metadata": {},
   "outputs": [
    {
     "data": {
      "text/plain": [
       "tensor([[0.0577, 0.0446, 0.0564, 0.0962],\n",
       "        [0.0750, 0.0557, 0.0582, 0.0389],\n",
       "        [0.2007, 0.7080, 0.0553, 0.0282]], grad_fn=<MulBackward0>)"
      ]
     },
     "execution_count": 5,
     "metadata": {},
     "output_type": "execute_result"
    }
   ],
   "source": [
    "a=x*y\n",
    "a"
   ]
  },
  {
   "cell_type": "code",
   "execution_count": 7,
   "id": "325f882a",
   "metadata": {},
   "outputs": [
    {
     "data": {
      "text/plain": [
       "tensor([[0.7155, 0.5673, 0.9232, 0.5175],\n",
       "        [0.0988, 0.1173, 0.3663, 0.2691],\n",
       "        [0.4000, 1.3505, 0.8488, 0.3706]], grad_fn=<AddBackward0>)"
      ]
     },
     "execution_count": 7,
     "metadata": {},
     "output_type": "execute_result"
    }
   ],
   "source": [
    "b=a+z\n",
    "b"
   ]
  },
  {
   "cell_type": "code",
   "execution_count": 8,
   "id": "5e9452ef",
   "metadata": {},
   "outputs": [
    {
     "data": {
      "text/plain": [
       "tensor(6.5449, grad_fn=<SumBackward0>)"
      ]
     },
     "execution_count": 8,
     "metadata": {},
     "output_type": "execute_result"
    }
   ],
   "source": [
    "c=torch.sum(b)\n",
    "c"
   ]
  },
  {
   "cell_type": "code",
   "execution_count": 9,
   "id": "b42e5886",
   "metadata": {},
   "outputs": [],
   "source": [
    "c.backward()"
   ]
  },
  {
   "cell_type": "code",
   "execution_count": 12,
   "id": "ffbb67c2",
   "metadata": {},
   "outputs": [
    {
     "name": "stdout",
     "output_type": "stream",
     "text": [
      "c.grad_fn= <SumBackward0 object at 0x000002357A828100>\n",
      "x.data= tensor([[0.2844, 0.0591, 0.2247, 0.2467],\n",
      "        [0.3867, 0.2330, 0.2553, 0.2892],\n",
      "        [0.4360, 0.7861, 0.0680, 0.8638]])\n",
      "x.grad= tensor([[0.2027, 0.7543, 0.2512, 0.3902],\n",
      "        [0.1939, 0.2393, 0.2279, 0.1345],\n",
      "        [0.4603, 0.9006, 0.8136, 0.0326]])\n"
     ]
    }
   ],
   "source": [
    "print(\"c.grad_fn=\",c.grad_fn)\n",
    "print(\"x.data=\",x.data)\n",
    "print(\"x.grad=\",x.grad)"
   ]
  },
  {
   "cell_type": "code",
   "execution_count": 13,
   "id": "8fb3f366",
   "metadata": {},
   "outputs": [],
   "source": [
    "# Create tensors\n",
    "x=torch.tensor(1., requires_grad=True)\n",
    "w=torch.tensor(2., requires_grad=True)\n",
    "b=torch.tensor(3., requires_grad=True)"
   ]
  },
  {
   "cell_type": "code",
   "execution_count": 14,
   "id": "50baeb7b",
   "metadata": {},
   "outputs": [],
   "source": [
    "# Build Computational Graph\n",
    "# y=2*x+3\n",
    "y=w*x+b"
   ]
  },
  {
   "cell_type": "code",
   "execution_count": 15,
   "id": "584ab039",
   "metadata": {},
   "outputs": [
    {
     "data": {
      "text/plain": [
       "tensor(5., grad_fn=<AddBackward0>)"
      ]
     },
     "execution_count": 15,
     "metadata": {},
     "output_type": "execute_result"
    }
   ],
   "source": [
    "y"
   ]
  },
  {
   "cell_type": "code",
   "execution_count": 16,
   "id": "c7dba1a9",
   "metadata": {},
   "outputs": [],
   "source": [
    "# Compute the gradients\n",
    "y.backward()"
   ]
  },
  {
   "cell_type": "code",
   "execution_count": 17,
   "id": "826f2af9",
   "metadata": {},
   "outputs": [
    {
     "data": {
      "text/plain": [
       "tensor(5., grad_fn=<AddBackward0>)"
      ]
     },
     "execution_count": 17,
     "metadata": {},
     "output_type": "execute_result"
    }
   ],
   "source": [
    "y"
   ]
  },
  {
   "cell_type": "code",
   "execution_count": 18,
   "id": "1a21b28d",
   "metadata": {},
   "outputs": [
    {
     "name": "stdout",
     "output_type": "stream",
     "text": [
      "tensor(2.)\n",
      "tensor(1.)\n",
      "tensor(1.)\n"
     ]
    }
   ],
   "source": [
    "print(x.grad)\n",
    "print(w.grad)\n",
    "print(b.grad)"
   ]
  },
  {
   "cell_type": "code",
   "execution_count": 30,
   "id": "8663f2ed",
   "metadata": {},
   "outputs": [],
   "source": [
    "a=torch.randn(1, requires_grad=True, dtype=torch.float)\n",
    "b=torch.rand(1, requires_grad=True)"
   ]
  },
  {
   "cell_type": "code",
   "execution_count": 31,
   "id": "f5a562c3",
   "metadata": {},
   "outputs": [
    {
     "ename": "NameError",
     "evalue": "name 'optim' is not defined",
     "output_type": "error",
     "traceback": [
      "\u001b[1;31m---------------------------------------------------------------------------\u001b[0m",
      "\u001b[1;31mNameError\u001b[0m                                 Traceback (most recent call last)",
      "\u001b[1;32mC:\\conda_tmp\\ipykernel_8856\\3090572368.py\u001b[0m in \u001b[0;36m<module>\u001b[1;34m\u001b[0m\n\u001b[0;32m      1\u001b[0m \u001b[1;31m# Define SGD\u001b[0m\u001b[1;33m\u001b[0m\u001b[1;33m\u001b[0m\u001b[0m\n\u001b[1;32m----> 2\u001b[1;33m \u001b[0moptimizer\u001b[0m\u001b[1;33m=\u001b[0m\u001b[0moptim\u001b[0m\u001b[1;33m.\u001b[0m\u001b[0mSGD\u001b[0m\u001b[1;33m(\u001b[0m\u001b[1;33m[\u001b[0m\u001b[0ma\u001b[0m\u001b[1;33m,\u001b[0m\u001b[0mb\u001b[0m\u001b[1;33m]\u001b[0m\u001b[1;33m,\u001b[0m\u001b[0mlr\u001b[0m\u001b[1;33m=\u001b[0m\u001b[0mlr\u001b[0m\u001b[1;33m)\u001b[0m\u001b[1;33m\u001b[0m\u001b[1;33m\u001b[0m\u001b[0m\n\u001b[0m",
      "\u001b[1;31mNameError\u001b[0m: name 'optim' is not defined"
     ]
    }
   ],
   "source": [
    "# Define SGD\n",
    "optimizer=optim.SGD([a,b],lr=lr)"
   ]
  },
  {
   "cell_type": "code",
   "execution_count": null,
   "id": "8d373529",
   "metadata": {},
   "outputs": [],
   "source": []
  }
 ],
 "metadata": {
  "kernelspec": {
   "display_name": "Python 3 (ipykernel)",
   "language": "python",
   "name": "python3"
  },
  "language_info": {
   "codemirror_mode": {
    "name": "ipython",
    "version": 3
   },
   "file_extension": ".py",
   "mimetype": "text/x-python",
   "name": "python",
   "nbconvert_exporter": "python",
   "pygments_lexer": "ipython3",
   "version": "3.9.13"
  }
 },
 "nbformat": 4,
 "nbformat_minor": 5
}
