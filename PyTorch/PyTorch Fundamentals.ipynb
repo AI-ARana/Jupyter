{
 "cells": [
  {
   "cell_type": "code",
   "execution_count": 1,
   "id": "7a8b65e7-1aa9-43ff-9633-30d417dbd7f7",
   "metadata": {},
   "outputs": [],
   "source": [
    "import torch\n",
    "import numpy as np\n",
    "import warnings # Ignore warnings\n",
    "warnings.filterwarnings('ignore')"
   ]
  },
  {
   "cell_type": "code",
   "execution_count": 2,
   "id": "017b572b-4abe-4ce4-ba68-5ad373b6a2f6",
   "metadata": {},
   "outputs": [
    {
     "name": "stdout",
     "output_type": "stream",
     "text": [
      "Torch Version: 2.4.0+cu118\n",
      "Numpy Version: 1.26.4\n"
     ]
    }
   ],
   "source": [
    "print(\"Torch Version:\", torch.__version__)\n",
    "print(\"Numpy Version:\", np.__version__)"
   ]
  },
  {
   "cell_type": "raw",
   "id": "3a5aed13-1475-46cc-84f1-f2b61cde55b1",
   "metadata": {},
   "source": [
    "What are Tensors?\n",
    "Tensor holds a multi-dimensional array of elements of a single data type which is similar to ndarray of numpy. The zero dimension is called Scalar. Two dimnesion is called Matrix. When greater than 2 dimension called Tensor."
   ]
  },
  {
   "cell_type": "markdown",
   "id": "148f488f-5c50-4324-822e-8aed04b98eff",
   "metadata": {},
   "source": [
    "Tensor Initilization"
   ]
  },
  {
   "cell_type": "raw",
   "id": "b19d5193-2fa5-49f5-8683-b140607cd830",
   "metadata": {},
   "source": [
    "2X3 Pythorch Tensor with float 32 data type"
   ]
  },
  {
   "cell_type": "code",
   "execution_count": 3,
   "id": "ee65c074-3176-4449-8b0f-06d55acbc844",
   "metadata": {},
   "outputs": [],
   "source": [
    "device=\"cuda\" if torch.cuda.is_available() else \"cpu\" # Check CUDA and set device"
   ]
  },
  {
   "cell_type": "code",
   "execution_count": 4,
   "id": "9d8c8962-8feb-4f7e-82ea-bfca1e48d303",
   "metadata": {},
   "outputs": [],
   "source": [
    "my_tensor=torch.tensor([[1,2,3],[4,5,6]], dtype=torch.float32,device=device, requires_grad=True)"
   ]
  },
  {
   "cell_type": "code",
   "execution_count": 5,
   "id": "21e536d2-8e4b-4d81-935c-8b3e4e3bcff6",
   "metadata": {},
   "outputs": [
    {
     "name": "stdout",
     "output_type": "stream",
     "text": [
      "tensor([[1., 2., 3.],\n",
      "        [4., 5., 6.]], device='cuda:0', requires_grad=True)\n",
      "Data Type: torch.float32\n",
      "Device: cuda:0\n",
      "Shape: torch.Size([2, 3])\n",
      "Requires Gradient: True\n"
     ]
    }
   ],
   "source": [
    "print(my_tensor)\n",
    "print(\"Data Type:\", my_tensor.dtype)\n",
    "print(\"Device:\",my_tensor.device)\n",
    "print(\"Shape:\",my_tensor.shape)\n",
    "print(\"Requires Gradient:\",my_tensor.requires_grad)"
   ]
  },
  {
   "cell_type": "code",
   "execution_count": 6,
   "id": "9a8cbdd1-8b9f-4e71-89ff-fb2d535e4edd",
   "metadata": {},
   "outputs": [
    {
     "name": "stdout",
     "output_type": "stream",
     "text": [
      "Empty Tensor:\n",
      " tensor([[-1.0300e+31,  1.0972e-42,  0.0000e+00],\n",
      "        [ 0.0000e+00,  0.0000e+00,  0.0000e+00],\n",
      "        [ 0.0000e+00,  0.0000e+00,  0.0000e+00]])\n",
      "Zero Tensor:\n",
      " tensor([[0., 0., 0.],\n",
      "        [0., 0., 0.],\n",
      "        [0., 0., 0.]])\n",
      "Random Tensor:\n",
      " tensor([[0.7138, 0.3200, 0.8804],\n",
      "        [0.2940, 0.0202, 0.2855],\n",
      "        [0.6265, 0.4699, 0.0013]])\n",
      "Ones Tensor:\n",
      " tensor([[1., 1., 1.],\n",
      "        [1., 1., 1.],\n",
      "        [1., 1., 1.]])\n",
      "Identity Matrix:\n",
      " tensor([[1., 0., 0., 0.],\n",
      "        [0., 1., 0., 0.],\n",
      "        [0., 0., 1., 0.],\n",
      "        [0., 0., 0., 1.]])\n",
      "Arange Tensor:\n",
      " tensor([0, 1, 2, 3, 4])\n",
      "Linspace Tensor:\n",
      " tensor([0.1000, 0.3250, 0.5500, 0.7750, 1.0000])\n",
      "Normal Distribution Tensor:\n",
      " tensor([[-1.5519,  0.3141, -1.8716, -0.1535,  0.9671]])\n",
      "Uniform Distribution Tensor:\n",
      " tensor([[0.3533, 0.5893, 0.1097, 0.6548, 0.0850]])\n"
     ]
    }
   ],
   "source": [
    "# Empty Tensor \n",
    "x1=torch.empty(3,3)\n",
    "print(\"Empty Tensor:\\n\",x1)\n",
    "\n",
    "# Tensor filled with Zeros\n",
    "x2=torch.zeros(3,3)\n",
    "print(\"Zero Tensor:\\n\",x2)\n",
    "\n",
    "# Tensor with random values\n",
    "x3=torch.rand(3,3)\n",
    "print(\"Random Tensor:\\n\",x3)\n",
    "\n",
    "# Tensor filled with ones\n",
    "x4=torch.ones(3,3)\n",
    "print(\"Ones Tensor:\\n\",x4)\n",
    "\n",
    "# Identity Matrix\n",
    "x5=torch.eye(4,4)\n",
    "print(\"Identity Matrix:\\n\",x5)\n",
    "\n",
    "# Tensor using Arange\n",
    "x6=torch.arange(5)\n",
    "print(\"Arange Tensor:\\n\",x6)\n",
    "\n",
    "# Tensor using linspace\n",
    "x7=torch.linspace(0.1,1,5)\n",
    "print(\"Linspace Tensor:\\n\",x7)\n",
    "\n",
    "# Tensor with normal distribution\n",
    "x8=torch.empty(1,5).normal_(mean=0,std=1)\n",
    "print(\"Normal Distribution Tensor:\\n\",x8)\n",
    "\n",
    "# Tensor with uniform distribution\n",
    "x9=torch.empty(1,5).uniform_(0,1)\n",
    "print(\"Uniform Distribution Tensor:\\n\",x9)"
   ]
  },
  {
   "cell_type": "raw",
   "id": "dcf1190f-dc55-4027-a064-840ddce83616",
   "metadata": {},
   "source": [
    "Tensor Type Conversion"
   ]
  },
  {
   "cell_type": "code",
   "execution_count": 7,
   "id": "2d5b45dd-06d5-4810-accb-07c135287a1c",
   "metadata": {},
   "outputs": [
    {
     "name": "stdout",
     "output_type": "stream",
     "text": [
      "Boolean Tensor: tensor([False,  True,  True,  True])\n",
      "Short Tensor (int16): tensor([0, 1, 2, 3], dtype=torch.int16)\n",
      "Long Tensor (int64): tensor([0, 1, 2, 3])\n",
      "Half Tensor (float16): tensor([0., 1., 2., 3.], dtype=torch.float16)\n",
      "Float Tensor (float32): tensor([0., 1., 2., 3.])\n",
      "Double Tensor (float64): tensor([0., 1., 2., 3.], dtype=torch.float64)\n"
     ]
    }
   ],
   "source": [
    "tensor=torch.arange(4)\n",
    "print(\"Boolean Tensor:\", tensor.bool()) # Boolean\n",
    "print(\"Short Tensor (int16):\", tensor.short()) # int16\n",
    "print(\"Long Tensor (int64):\", tensor.long()) # int64\n",
    "print(\"Half Tensor (float16):\", tensor.half()) # float16\n",
    "print(\"Float Tensor (float32):\", tensor.float()) # float32\n",
    "print(\"Double Tensor (float64):\", tensor.double()) # float64"
   ]
  },
  {
   "cell_type": "markdown",
   "id": "cb241972-973b-42e7-bdd2-67739f8bdaf3",
   "metadata": {},
   "source": [
    "Convet b/w Numpy Arrays and Tensors"
   ]
  },
  {
   "cell_type": "code",
   "execution_count": 8,
   "id": "4e76c3b8-782b-4110-b82e-8531c924085b",
   "metadata": {},
   "outputs": [
    {
     "name": "stdout",
     "output_type": "stream",
     "text": [
      "Numpy Arrays:\n",
      " [[0. 0. 0. 0. 0.]\n",
      " [0. 0. 0. 0. 0.]\n",
      " [0. 0. 0. 0. 0.]\n",
      " [0. 0. 0. 0. 0.]\n",
      " [0. 0. 0. 0. 0.]]\n",
      "Tensor From Numpy Array:\n",
      " tensor([[0., 0., 0., 0., 0.],\n",
      "        [0., 0., 0., 0., 0.],\n",
      "        [0., 0., 0., 0., 0.],\n",
      "        [0., 0., 0., 0., 0.],\n",
      "        [0., 0., 0., 0., 0.]], dtype=torch.float64)\n",
      "Converted Back to Numpy Array:\n",
      " [[0. 0. 0. 0. 0.]\n",
      " [0. 0. 0. 0. 0.]\n",
      " [0. 0. 0. 0. 0.]\n",
      " [0. 0. 0. 0. 0.]\n",
      " [0. 0. 0. 0. 0.]]\n"
     ]
    }
   ],
   "source": [
    "# Numpy arrays of zeros\n",
    "np_array=np.zeros((5,5))\n",
    "print(\"Numpy Arrays:\\n\", np_array)\n",
    "\n",
    "# Convert Numpy to Pythorch\n",
    "tensor=torch.from_numpy(np_array)\n",
    "print(\"Tensor From Numpy Array:\\n\",tensor)\n",
    "\n",
    "# Convert tensor back\n",
    "\n",
    "numpy_back=tensor.numpy()\n",
    "print(\"Converted Back to Numpy Array:\\n\", numpy_back)"
   ]
  },
  {
   "cell_type": "markdown",
   "id": "79666487-1857-47ad-9890-c52fb5daf948",
   "metadata": {},
   "source": [
    "Tensor Mathematics and Comparision Operations"
   ]
  },
  {
   "cell_type": "code",
   "execution_count": 9,
   "id": "a37c5ec8-b3b1-443b-8bc6-da4f0c67cb1f",
   "metadata": {},
   "outputs": [
    {
     "name": "stdout",
     "output_type": "stream",
     "text": [
      "Addition Results: tensor([10, 10, 10])\n",
      "Addition using add Results: tensor([10, 10, 10]) tensor([10., 10., 10.]) tensor([10, 10, 10])\n",
      "Subtraction Result: tensor([-8, -6, -4])\n",
      "Division Result: tensor([0.1111, 0.2500, 0.4286])\n",
      "Before Inplace addition: tensor([1., 1., 1.])\n",
      "After Inplace addition: tensor([2., 3., 4.])\n",
      "After Second inplace addition: tensor([3., 5., 7.])\n",
      "Exponentiation (pow): tensor([1, 4, 9])\n",
      "Exponentiation (**): tensor([1, 4, 9])\n",
      "x>0: tensor([True, True, True])\n",
      "x<0: tensor([False, False, False])\n",
      "Dor Product: tensor(46)\n"
     ]
    }
   ],
   "source": [
    "x =torch.tensor([1,2,3])\n",
    "y=torch.tensor([9,8,7])\n",
    "\n",
    "# Addition\n",
    "z=x+y\n",
    "print(\"Addition Results:\",z)\n",
    "\n",
    "# Addition using add\n",
    "z1=torch.empty(3)\n",
    "torch.add(x,y, out=z1)\n",
    "z2=torch.add(x,y)\n",
    "print(\"Addition using add Results:\", z,z1,z2)\n",
    "\n",
    "# Subtraction\n",
    "z=x-y\n",
    "print(\"Subtraction Result:\", z)\n",
    "\n",
    "# Divison (true division)\n",
    "z=torch.true_divide(x,y)\n",
    "print(\"Division Result:\",z)\n",
    "\n",
    "# Inplace Operations\n",
    "t=torch.ones(3)\n",
    "print(\"Before Inplace addition:\", t)\n",
    "t.add_(x)\n",
    "print(\"After Inplace addition:\",t)\n",
    "t+=x # Another inplace addition\n",
    "print(\"After Second inplace addition:\",t)\n",
    "\n",
    "# Exponentiation\n",
    "z=x.pow(2)\n",
    "print(\"Exponentiation (pow):\",z)\n",
    "z=x**2\n",
    "print(\"Exponentiation (**):\",z)\n",
    "\n",
    "# Comparision\n",
    "z=x>0\n",
    "print(\"x>0:\",z)\n",
    "z=x<0\n",
    "print(\"x<0:\",z)\n",
    "\n",
    "# Dot Product\n",
    "z=torch.dot(x,y)\n",
    "print(\"Dor Product:\",z)\n",
    "\n"
   ]
  },
  {
   "cell_type": "markdown",
   "id": "b46ced3c-7cae-4848-a8fc-9580aa0069ad",
   "metadata": {},
   "source": [
    "Matrix Multiplication and Batch Operations"
   ]
  },
  {
   "cell_type": "code",
   "execution_count": 10,
   "id": "40de2691-caee-4b92-bba6-159727826d8e",
   "metadata": {},
   "outputs": [
    {
     "name": "stdout",
     "output_type": "stream",
     "text": [
      "Matrix Multiplication (@ operator):\n",
      " tensor([[46]])\n",
      "Matrix Multiplication (torch.mm):\n",
      " tensor([[46]])\n",
      "Matrix Multiplication (mm):\n",
      " tensor([[46]])\n"
     ]
    }
   ],
   "source": [
    "# Matrix Multiplication using @ operator and torch.mm\n",
    "\n",
    "m1=torch.tensor([[1,2,3]])\n",
    "m2=torch.tensor([[9,8,7]])\n",
    "\n",
    "z1=m1@torch.t(m2)\n",
    "print(\"Matrix Multiplication (@ operator):\\n\", z1)\n",
    "z2=torch.mm(m1, torch.t(m2))\n",
    "print(\"Matrix Multiplication (torch.mm):\\n\", z2)\n",
    "z3=m1.mm(torch.t(m2))\n",
    "print(\"Matrix Multiplication (mm):\\n\", z3)\n"
   ]
  },
  {
   "cell_type": "code",
   "execution_count": 11,
   "id": "c1c9c381-593c-4601-8291-ed217509b3c8",
   "metadata": {},
   "outputs": [
    {
     "name": "stdout",
     "output_type": "stream",
     "text": [
      "Matrix Multiplication:\n",
      " tensor([[2.7269, 3.7515, 4.7292, 6.1857, 3.3993],\n",
      "        [1.5258, 2.0464, 2.5921, 3.5241, 1.9416],\n",
      "        [2.5894, 3.4355, 4.3771, 5.9963, 3.2974],\n",
      "        [1.0092, 1.2721, 1.6183, 2.2792, 1.2726],\n",
      "        [2.6298, 2.9542, 3.7448, 5.1247, 3.0044]])\n",
      "Matrix Power 3:\n",
      " tensor([[2.7269, 3.7515, 4.7292, 6.1857, 3.3993],\n",
      "        [1.5258, 2.0464, 2.5921, 3.5241, 1.9416],\n",
      "        [2.5894, 3.4355, 4.3771, 5.9963, 3.2974],\n",
      "        [1.0092, 1.2721, 1.6183, 2.2792, 1.2726],\n",
      "        [2.6298, 2.9542, 3.7448, 5.1247, 3.0044]])\n"
     ]
    }
   ],
   "source": [
    "# Matrix Exponemtiation\n",
    "matrix_exp=torch.rand(5,5)\n",
    "print(\"Matrix Multiplication:\\n\", matrix_exp @ matrix_exp @ matrix_exp)\n",
    "print(\"Matrix Power 3:\\n\", matrix_exp.matrix_power(3))"
   ]
  },
  {
   "cell_type": "code",
   "execution_count": 12,
   "id": "88c97c4d-2dfe-4730-8587-eb36da700f90",
   "metadata": {},
   "outputs": [
    {
     "name": "stdout",
     "output_type": "stream",
     "text": [
      "Element-wise Multiplication:\n",
      " tensor([[ 9, 16, 21]])\n",
      "Element-wise Multiplication (alternative):\n",
      " tensor([[ 9, 16, 21]])\n"
     ]
    }
   ],
   "source": [
    "# Element-wise multiplication\n",
    "z4=torch.mul(m1,m2)\n",
    "print(\"Element-wise Multiplication:\\n\", z4)\n",
    "z5=m1*m2\n",
    "print(\"Element-wise Multiplication (alternative):\\n\", z4)"
   ]
  },
  {
   "cell_type": "code",
   "execution_count": 14,
   "id": "948e47c9-5d19-4d79-af74-0812593574d7",
   "metadata": {},
   "outputs": [
    {
     "name": "stdout",
     "output_type": "stream",
     "text": [
      "Batch Matrix Multiplication (first batch):\n",
      " tensor([[3.9949, 3.3958, 3.9320, 3.8010, 5.2081, 4.3037, 5.3203, 4.4782, 4.1088,\n",
      "         4.7826, 3.6692, 4.4272, 4.1676, 4.4411, 4.2946, 4.9192, 3.8412, 3.9426,\n",
      "         4.1771, 4.5140, 4.1298, 5.3026, 4.5101, 4.4490, 3.9309, 3.5774, 5.1333,\n",
      "         2.9883, 4.2787, 5.3376],\n",
      "        [3.6956, 3.7734, 4.1437, 4.2491, 4.5589, 3.8867, 4.4575, 3.8127, 4.1247,\n",
      "         4.6248, 3.8216, 4.2603, 3.6873, 4.7135, 4.2442, 3.9502, 4.1666, 3.7801,\n",
      "         4.8304, 5.0018, 3.6584, 4.7191, 4.0945, 3.8339, 3.9426, 3.8390, 4.9567,\n",
      "         3.0883, 4.3284, 4.9563],\n",
      "        [4.9043, 4.9653, 6.2397, 5.2186, 6.2676, 4.4378, 6.8076, 5.6279, 4.8811,\n",
      "         5.8970, 5.2702, 4.2911, 4.6307, 6.5301, 5.3191, 6.3947, 5.6046, 4.3094,\n",
      "         5.4749, 6.1967, 5.1801, 5.8385, 4.5020, 4.9978, 5.3898, 5.0397, 6.5294,\n",
      "         4.4848, 5.9422, 5.8620],\n",
      "        [5.4134, 4.4241, 4.8428, 5.5857, 5.3111, 4.7751, 6.2568, 6.5281, 4.6570,\n",
      "         6.3217, 4.7393, 5.4198, 4.4950, 5.1725, 5.0747, 5.8696, 5.4881, 4.4281,\n",
      "         5.3014, 6.1414, 4.8218, 5.3869, 4.8987, 4.7053, 5.2904, 5.1632, 6.3090,\n",
      "         4.2393, 5.9278, 6.1049],\n",
      "        [5.3160, 4.1316, 6.1935, 5.1630, 6.1856, 4.8553, 7.1633, 6.0785, 6.1230,\n",
      "         6.4215, 5.6383, 5.6819, 5.4410, 6.6794, 5.9971, 5.8010, 6.3627, 4.7997,\n",
      "         5.6711, 6.3636, 5.7096, 7.2529, 4.9053, 5.1627, 5.9922, 5.1298, 6.1525,\n",
      "         4.4230, 6.4391, 6.4666],\n",
      "        [4.8232, 3.6643, 4.7785, 4.2755, 6.1119, 5.3118, 5.8771, 5.2048, 4.8572,\n",
      "         5.8374, 4.3936, 5.8818, 4.9297, 5.0808, 5.5141, 5.5529, 5.1766, 3.9806,\n",
      "         4.7146, 5.9549, 4.9152, 6.1807, 4.9944, 4.7624, 4.7103, 4.2041, 5.7627,\n",
      "         3.7883, 5.1528, 6.6563],\n",
      "        [5.7201, 4.1852, 6.2182, 5.0555, 6.4371, 5.0360, 7.5947, 6.4988, 5.7323,\n",
      "         7.1190, 5.5641, 5.7183, 5.6588, 6.2842, 6.6650, 6.4347, 6.1250, 4.4848,\n",
      "         5.0108, 6.5936, 5.8418, 7.4128, 5.3390, 6.0658, 6.1038, 4.9862, 6.1670,\n",
      "         4.5984, 6.3290, 6.6996],\n",
      "        [4.7302, 4.7738, 5.3278, 5.7611, 6.5685, 5.3682, 6.3126, 6.4682, 6.1358,\n",
      "         7.0002, 5.4322, 6.1281, 4.6745, 5.9599, 6.0699, 6.5279, 5.0476, 4.7357,\n",
      "         5.1303, 6.6449, 5.3063, 6.4618, 5.1165, 5.5020, 5.4394, 5.0605, 6.5800,\n",
      "         4.0818, 6.1206, 6.7008],\n",
      "        [4.8285, 4.0096, 4.9596, 4.7683, 5.5395, 5.1035, 5.7416, 5.5131, 5.4039,\n",
      "         5.8017, 5.0192, 4.8065, 4.7544, 5.5985, 5.2837, 5.6069, 5.0283, 4.1802,\n",
      "         5.4193, 6.0444, 5.1334, 6.2950, 5.2308, 4.4457, 5.2262, 4.5198, 6.1118,\n",
      "         3.6258, 5.3802, 6.1450],\n",
      "        [4.9229, 4.9613, 5.5933, 5.2571, 6.1543, 5.4081, 6.5665, 5.7359, 5.6523,\n",
      "         6.3241, 5.3982, 5.4584, 5.2316, 5.9138, 6.2927, 6.2886, 5.0436, 4.2748,\n",
      "         5.1039, 6.5527, 5.9826, 6.9485, 5.9430, 5.3661, 5.3205, 4.8740, 6.9242,\n",
      "         4.5535, 5.8775, 6.9664]])\n",
      "Shape of batched multiplication result: torch.Size([32, 10, 30])\n"
     ]
    }
   ],
   "source": [
    "# Batch Matrix multiplication\n",
    "batch=32 \n",
    "n, m, p=10,20,30\n",
    "tensor1=torch.rand((batch, n, m))\n",
    "tensor2=torch.rand((batch, m, p))\n",
    "out_bmm=torch.bmm(tensor1, tensor2) # Result Shape: (batch, n,p)\n",
    "print(\"Batch Matrix Multiplication (first batch):\\n\", out_bmm[0])\n",
    "print(\"Shape of batched multiplication result:\", (tensor1@tensor2).shape)\n"
   ]
  },
  {
   "cell_type": "markdown",
   "id": "bd81a703-d69f-4fe4-b310-4604e84b9b18",
   "metadata": {},
   "source": [
    "Broadcasting and Other Useful Operations"
   ]
  },
  {
   "cell_type": "code",
   "execution_count": 15,
   "id": "241ef95b-605d-487c-acc1-108b6235e48a",
   "metadata": {},
   "outputs": [
    {
     "name": "stdout",
     "output_type": "stream",
     "text": [
      "Tensor  x1:\n",
      " tensor([[0.9702, 0.0740, 0.1491, 0.3046, 0.8941],\n",
      "        [0.2756, 0.7397, 0.3863, 0.1100, 0.3683],\n",
      "        [0.4379, 0.8189, 0.2133, 0.6038, 0.2114],\n",
      "        [0.6605, 0.0565, 0.8893, 0.6935, 0.9125],\n",
      "        [0.8469, 0.8379, 0.7799, 0.3334, 0.1606]])\n",
      "Tensor  x2:\n",
      " tensor([0.4038, 0.2460, 0.0856, 0.9858, 0.9867])\n",
      "x1-x2:\n",
      " tensor([[ 0.5664, -0.1720,  0.0635, -0.6812, -0.0926],\n",
      "        [-0.1282,  0.4937,  0.3007, -0.8759, -0.6184],\n",
      "        [ 0.0342,  0.5729,  0.1277, -0.3820, -0.7753],\n",
      "        [ 0.2568, -0.1894,  0.8037, -0.2924, -0.0742],\n",
      "        [ 0.4431,  0.5919,  0.6944, -0.6524, -0.8261]])\n",
      "x1 raised to the power of x2:\n",
      " tensor([[0.9879, 0.5271, 0.8497, 0.3098, 0.8955],\n",
      "        [0.5943, 0.9285, 0.9218, 0.1135, 0.3732],\n",
      "        [0.7165, 0.9520, 0.8762, 0.6082, 0.2158],\n",
      "        [0.8458, 0.4933, 0.9900, 0.6971, 0.9136],\n",
      "        [0.9351, 0.9574, 0.9790, 0.3387, 0.1646]])\n"
     ]
    }
   ],
   "source": [
    "# Broadcasting: Automatically expands smaller tensors to match larger ones\n",
    "x1=torch.rand(5,5)\n",
    "x2=torch.rand(5)\n",
    "print(\"Tensor  x1:\\n\", x1)\n",
    "print(\"Tensor  x2:\\n\", x2)\n",
    "print(\"x1-x2:\\n\", x1-x2)\n",
    "print(\"x1 raised to the power of x2:\\n\", x1**x2)"
   ]
  },
  {
   "cell_type": "code",
   "execution_count": 16,
   "id": "322e670a-f78a-436e-ae9f-a729612b2aef",
   "metadata": {},
   "outputs": [
    {
     "name": "stdout",
     "output_type": "stream",
     "text": [
      "Sum along dimension 0: tensor(6)\n"
     ]
    }
   ],
   "source": [
    "# Sum of tensor elements along dimension 0\n",
    "sum_x=torch.sum(x, dim=0)\n",
    "print(\"Sum along dimension 0:\", sum_x)"
   ]
  },
  {
   "cell_type": "code",
   "execution_count": 18,
   "id": "d4e3fb06-0e46-4e85-a183-0cd7f8dbfc2e",
   "metadata": {},
   "outputs": [
    {
     "name": "stdout",
     "output_type": "stream",
     "text": [
      "Max value and index: tensor(3) tensor(2)\n",
      "Max value and index: tensor(1) tensor(2)\n"
     ]
    }
   ],
   "source": [
    "# Maximum and Minimum values\n",
    "value, indices=torch.max(x,dim=0)\n",
    "print(\"Max value and index:\", value, indices)\n",
    "\n",
    "value, inices=torch.min(x,dim=0)\n",
    "print(\"Max value and index:\", value, indices)"
   ]
  },
  {
   "cell_type": "code",
   "execution_count": 19,
   "id": "a9f70003-b06c-44ec-be4e-4dfb971821e1",
   "metadata": {},
   "outputs": [
    {
     "name": "stdout",
     "output_type": "stream",
     "text": [
      "Absolute values: tensor([1, 2, 3])\n",
      "Argmax: tensor(2)\n",
      "Argmin: tensor(0)\n",
      "Mean (Converted to float): tensor(2.)\n",
      "Element-wise equality (x==y): tensor([False, False, False])\n"
     ]
    }
   ],
   "source": [
    "print(\"Absolute values:\", torch.abs(x))\n",
    "print(\"Argmax:\", torch.argmax(x, dim=0))\n",
    "print(\"Argmin:\", torch.argmin(x, dim=0))\n",
    "print(\"Mean (Converted to float):\", torch.mean(x.float(), dim=0))\n",
    "print(\"Element-wise equality (x==y):\", torch.eq(x,y))"
   ]
  },
  {
   "cell_type": "code",
   "execution_count": 20,
   "id": "0334de16-d149-4947-9fda-97b97bfcd68c",
   "metadata": {},
   "outputs": [
    {
     "name": "stdout",
     "output_type": "stream",
     "text": [
      "Sorted y and indices: tensor([7, 8, 9]) tensor([2, 1, 0])\n"
     ]
    }
   ],
   "source": [
    "# Sorting\n",
    "sorted_y, indices=torch.sort(y, dim=0, descending=False)\n",
    "print(\"Sorted y and indices:\", sorted_y, indices)"
   ]
  },
  {
   "cell_type": "code",
   "execution_count": 21,
   "id": "3e77e04e-806c-4ec3-bf64-93eb2a409dce",
   "metadata": {},
   "outputs": [
    {
     "name": "stdout",
     "output_type": "stream",
     "text": [
      "Clamped x: tensor([1, 2, 3])\n"
     ]
    }
   ],
   "source": [
    "# Clamping values\n",
    "print(\"Clamped x:\", torch.clamp(x, min=0))"
   ]
  },
  {
   "cell_type": "code",
   "execution_count": 22,
   "id": "5315be88-7d20-4a6c-a574-3ed9d5f83768",
   "metadata": {},
   "outputs": [
    {
     "name": "stdout",
     "output_type": "stream",
     "text": [
      "Any True: tensor(True)\n",
      "All True: tensor(False)\n"
     ]
    }
   ],
   "source": [
    "# Boolean Operations\n",
    "x_bool=torch.tensor([1,0,1,1.1], dtype=torch.bool)\n",
    "print(\"Any True:\",torch.any(x_bool))\n",
    "print(\"All True:\", torch.all(x_bool))"
   ]
  },
  {
   "cell_type": "markdown",
   "id": "937bbf59-a535-4804-b14e-b7c87f6c211b",
   "metadata": {},
   "source": [
    "Tensor Indexing"
   ]
  },
  {
   "cell_type": "code",
   "execution_count": 23,
   "id": "42fdf6df-6c85-4499-a768-24dfa0c3a29a",
   "metadata": {},
   "outputs": [
    {
     "name": "stdout",
     "output_type": "stream",
     "text": [
      "First row of tensor: tensor([0.0859, 0.5349, 0.3965, 0.5059, 0.9615, 0.9871, 0.3591, 0.4938, 0.2251,\n",
      "        0.7282, 0.7297, 0.3894, 0.5930, 0.7405, 0.9944, 0.9662, 0.9122, 0.2420,\n",
      "        0.4365, 0.5006, 0.4889, 0.7993, 0.2348, 0.6439, 0.4510])\n",
      "First column of tensor: tensor([0.5349, 0.8928, 0.9907, 0.5341, 0.7713, 0.0171, 0.3878, 0.1604, 0.6292,\n",
      "        0.3986])\n",
      "First 10 elements of third row: tensor([0.9382, 0.9907, 0.9006, 0.9356, 0.4945, 0.4067, 0.2724, 0.2264, 0.1972,\n",
      "        0.0070])\n"
     ]
    }
   ],
   "source": [
    "# Create a random tensor with shape (batch_size, features)\n",
    "batch_size=10\n",
    "features=25\n",
    "x=torch.rand((batch_size, features))\n",
    "\n",
    "# Access the first row\n",
    "print(\"First row of tensor:\", x[0,:])\n",
    "# Access the Second column\n",
    "print(\"First column of tensor:\", x[0:,1])\n",
    "# Access the first 10 elements of the third row\n",
    "print(\"First 10 elements of third row:\", x[2,0:10])"
   ]
  },
  {
   "cell_type": "code",
   "execution_count": 24,
   "id": "61c0a157-3a52-4f3f-be7b-7ef4cd0d23df",
   "metadata": {},
   "outputs": [
    {
     "name": "stdout",
     "output_type": "stream",
     "text": [
      "Fancy indexing result: tensor([2, 5, 8])\n",
      "Elements where x2 <2 or x2>8: tensor([0, 1, 9])\n",
      "Even numbers in x2: tensor([0, 2, 4, 6, 8])\n",
      "Using torch.where: tensor([ 0,  2,  4,  6,  8, 10,  6,  7,  8,  9])\n"
     ]
    }
   ],
   "source": [
    "# Modify a specific element (set first element to 100)\n",
    "x[0,0]=100\n",
    "# Fancy indexing example\n",
    "x1=torch.arange(10)\n",
    "indices=[2,5,8]\n",
    "print(\"Fancy indexing result:\", x1[indices])\n",
    "# Advancing indexing: select elements based on a condition\n",
    "x2=torch.arange(10)\n",
    "print(\"Elements where x2 <2 or x2>8:\", x2[(x2<2) | (x2>8)])\n",
    "print(\"Even numbers in x2:\", x2[x2.remainder(2)==0])\n",
    "# Using torch.where to select values based on a condition\n",
    "print(\"Using torch.where:\", torch.where(x2>5,x2,x2*2))"
   ]
  },
  {
   "cell_type": "code",
   "execution_count": 25,
   "id": "1439d846-30fc-4470-98fc-e78ed796b901",
   "metadata": {},
   "outputs": [
    {
     "name": "stdout",
     "output_type": "stream",
     "text": [
      "Reshape to 3 x 3 using view:\n",
      " tensor([[0, 1, 2],\n",
      "        [3, 4, 5],\n",
      "        [6, 7, 8]])\n",
      "Reshape to 3 x 3 using reshape:\n",
      " tensor([[0, 1, 2],\n",
      "        [3, 4, 5],\n",
      "        [6, 7, 8]])\n"
     ]
    }
   ],
   "source": [
    "# Reshape a tensor using view and reshape\n",
    "x=torch.arange(9)\n",
    "x_3x3=x.view(3,3)\n",
    "print(\"Reshape to 3 x 3 using view:\\n\", x_3x3)\n",
    "x_3x3=x.reshape(3,3)\n",
    "print(\"Reshape to 3 x 3 using reshape:\\n\", x_3x3)"
   ]
  },
  {
   "cell_type": "code",
   "execution_count": 27,
   "id": "bd7cc995-9f14-42f5-8269-f0b1c39b77c8",
   "metadata": {},
   "outputs": [
    {
     "name": "stdout",
     "output_type": "stream",
     "text": [
      "Flattened transposed tensor: tensor([0, 3, 6, 1, 4, 7, 2, 5, 8])\n"
     ]
    }
   ],
   "source": [
    "# Transpose and flatten the tensor\n",
    "y=x_3x3.t()\n",
    "print(\"Flattened transposed tensor:\", y.contiguous().view(9))"
   ]
  },
  {
   "cell_type": "code",
   "execution_count": 29,
   "id": "29b8f271-7423-401c-a8e5-5e1eac55999e",
   "metadata": {},
   "outputs": [
    {
     "name": "stdout",
     "output_type": "stream",
     "text": [
      "Concatenated along dimension 0 (rows): tensor([[0.2793, 0.1322, 0.2553, 0.3946, 0.1120],\n",
      "        [0.7378, 0.9246, 0.0344, 0.1203, 0.1733],\n",
      "        [0.5399, 0.0644, 0.1179, 0.0948, 0.9875],\n",
      "        [0.6719, 0.7047, 0.4549, 0.1345, 0.0446]])\n",
      "Concatenated along dimension 1 (columns): tensor([[0.2793, 0.1322, 0.2553, 0.3946, 0.1120],\n",
      "        [0.7378, 0.9246, 0.0344, 0.1203, 0.1733],\n",
      "        [0.5399, 0.0644, 0.1179, 0.0948, 0.9875],\n",
      "        [0.6719, 0.7047, 0.4549, 0.1345, 0.0446]])\n"
     ]
    }
   ],
   "source": [
    "# Concatenation \n",
    "x1=torch.rand(2,5)\n",
    "x2=torch.rand(2,5)\n",
    "print(\"Concatenated along dimension 0 (rows):\",torch.cat([x1,x2], dim=0))\n",
    "print(\"Concatenated along dimension 1 (columns):\",torch.cat([x1,x2], dim=0))      "
   ]
  },
  {
   "cell_type": "code",
   "execution_count": null,
   "id": "fa4a9951-ca07-4b69-ad93-963e61092803",
   "metadata": {},
   "outputs": [],
   "source": [
    "# Flatten the tensor using view (-1)\n",
    "z=x1.view(-1)\n",
    "print(\"Flattened tensor shape:\", z.shape)\n",
    "\n",
    "# Reshape with batch dimension\n",
    "batch=64\n",
    "x=torch.rand(batch, 2,5)\n",
    "print(\"Reshaped tensor shape:\",z.shape)\n",
    "\n",
    "#Unsqueeze example (adding new dimensions)\n",
    "x=torch.aranage(10)\n",
    "print(\"Original x:\", x)\n",
    "print(\"x unsqueezed at dim 0:\", x.unsqueeze(0).shape, x.unsqueeze(0))\n",
    "print(\"x unsqueezed at dim 1:\", x.unsqueeze(1).shape, x.unsqueez"
   ]
  }
 ],
 "metadata": {
  "kernelspec": {
   "display_name": "Python 3 (ipykernel)",
   "language": "python",
   "name": "python3"
  },
  "language_info": {
   "codemirror_mode": {
    "name": "ipython",
    "version": 3
   },
   "file_extension": ".py",
   "mimetype": "text/x-python",
   "name": "python",
   "nbconvert_exporter": "python",
   "pygments_lexer": "ipython3",
   "version": "3.12.4"
  }
 },
 "nbformat": 4,
 "nbformat_minor": 5
}
