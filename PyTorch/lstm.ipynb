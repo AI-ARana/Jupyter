{
 "cells": [
  {
   "cell_type": "code",
   "execution_count": 1,
   "id": "e895991b",
   "metadata": {},
   "outputs": [
    {
     "name": "stdout",
     "output_type": "stream",
     "text": [
      "WARNING:tensorflow:From C:\\Users\\Anurag Rana\\anaconda3\\lib\\site-packages\\keras\\src\\losses.py:2976: The name tf.losses.sparse_softmax_cross_entropy is deprecated. Please use tf.compat.v1.losses.sparse_softmax_cross_entropy instead.\n",
      "\n"
     ]
    }
   ],
   "source": [
    "import numpy as np\n",
    "import tensorflow as tf\n",
    "from tensorflow.keras.models import Sequential\n",
    "from tensorflow.keras.layers import LSTM, Dense"
   ]
  },
  {
   "cell_type": "code",
   "execution_count": 2,
   "id": "affdf166",
   "metadata": {},
   "outputs": [
    {
     "name": "stdout",
     "output_type": "stream",
     "text": [
      "Sequence: [ 0  1  2  3  4  5  6  7  8  9 10 11 12 13 14 15 16 17 18 19 20 21 22 23\n",
      " 24 25 26 27 28 29 30 31 32 33 34 35 36 37 38 39 40 41 42 43 44 45 46 47\n",
      " 48 49 50 51 52 53 54 55 56 57 58 59 60 61 62 63 64 65 66 67 68 69 70 71\n",
      " 72 73 74 75 76 77 78 79 80 81 82 83 84 85 86 87 88 89 90 91 92 93 94 95\n",
      " 96 97 98 99]\n"
     ]
    }
   ],
   "source": [
    "# Generate a simple sequence of numbers\n",
    "def generate_sequence(length):\n",
    "    return np.array([i for i in range(length)])\n",
    "\n",
    "sequence = generate_sequence(100)  # Generate a sequence from 0 to 99\n",
    "\n",
    "print(\"Sequence:\", sequence)\n"
   ]
  },
  {
   "cell_type": "code",
   "execution_count": 3,
   "id": "81c0e428",
   "metadata": {},
   "outputs": [
    {
     "name": "stdout",
     "output_type": "stream",
     "text": [
      "Input data shape: (97, 3)\n",
      "Output data shape: (97,)\n"
     ]
    }
   ],
   "source": [
    "def create_dataset(sequence, look_back=1):\n",
    "    X, y = [], []\n",
    "    for i in range(len(sequence) - look_back):\n",
    "        X.append(sequence[i:(i + look_back)])\n",
    "        y.append(sequence[i + look_back])\n",
    "    return np.array(X), np.array(y)\n",
    "\n",
    "look_back = 3\n",
    "X, y = create_dataset(sequence, look_back)\n",
    "\n",
    "print(\"Input data shape:\", X.shape)  # Should be (samples, time steps)\n",
    "print(\"Output data shape:\", y.shape)\n",
    "\n"
   ]
  },
  {
   "cell_type": "code",
   "execution_count": 4,
   "id": "ae8d0a22",
   "metadata": {},
   "outputs": [
    {
     "name": "stdout",
     "output_type": "stream",
     "text": [
      "Reshaped Input data shape: (97, 3, 1)\n"
     ]
    }
   ],
   "source": [
    "# Reshape input to be [samples, time steps, features]\n",
    "X = np.reshape(X, (X.shape[0], X.shape[1], 1))\n",
    "\n",
    "print(\"Reshaped Input data shape:\", X.shape)  # Should be (samples, time steps, features)\n"
   ]
  },
  {
   "cell_type": "code",
   "execution_count": 5,
   "id": "7dc25f53",
   "metadata": {},
   "outputs": [
    {
     "name": "stdout",
     "output_type": "stream",
     "text": [
      "WARNING:tensorflow:From C:\\Users\\Anurag Rana\\anaconda3\\lib\\site-packages\\keras\\src\\backend.py:873: The name tf.get_default_graph is deprecated. Please use tf.compat.v1.get_default_graph instead.\n",
      "\n",
      "WARNING:tensorflow:From C:\\Users\\Anurag Rana\\anaconda3\\lib\\site-packages\\keras\\src\\optimizers\\__init__.py:309: The name tf.train.Optimizer is deprecated. Please use tf.compat.v1.train.Optimizer instead.\n",
      "\n",
      "Model: \"sequential\"\n",
      "_________________________________________________________________\n",
      " Layer (type)                Output Shape              Param #   \n",
      "=================================================================\n",
      " lstm (LSTM)                 (None, 50)                10400     \n",
      "                                                                 \n",
      " dense (Dense)               (None, 1)                 51        \n",
      "                                                                 \n",
      "=================================================================\n",
      "Total params: 10451 (40.82 KB)\n",
      "Trainable params: 10451 (40.82 KB)\n",
      "Non-trainable params: 0 (0.00 Byte)\n",
      "_________________________________________________________________\n",
      "None\n"
     ]
    }
   ],
   "source": [
    "model = Sequential()\n",
    "model.add(LSTM(50, input_shape=(look_back, 1)))  # 50 LSTM units\n",
    "model.add(Dense(1))  # Output layer\n",
    "model.compile(optimizer='adam', loss='mse')\n",
    "\n",
    "print(model.summary())\n"
   ]
  },
  {
   "cell_type": "code",
   "execution_count": 6,
   "id": "22bcda89",
   "metadata": {},
   "outputs": [
    {
     "name": "stdout",
     "output_type": "stream",
     "text": [
      "Epoch 1/100\n",
      "WARNING:tensorflow:From C:\\Users\\Anurag Rana\\anaconda3\\lib\\site-packages\\keras\\src\\utils\\tf_utils.py:492: The name tf.ragged.RaggedTensorValue is deprecated. Please use tf.compat.v1.ragged.RaggedTensorValue instead.\n",
      "\n",
      "97/97 - 1s - loss: 3020.6116 - 1s/epoch - 13ms/step\n",
      "Epoch 2/100\n",
      "97/97 - 0s - loss: 2402.9543 - 122ms/epoch - 1ms/step\n",
      "Epoch 3/100\n",
      "97/97 - 0s - loss: 2062.2173 - 117ms/epoch - 1ms/step\n",
      "Epoch 4/100\n",
      "97/97 - 0s - loss: 1795.5629 - 113ms/epoch - 1ms/step\n",
      "Epoch 5/100\n",
      "97/97 - 0s - loss: 1578.3192 - 120ms/epoch - 1ms/step\n",
      "Epoch 6/100\n",
      "97/97 - 0s - loss: 1388.6891 - 115ms/epoch - 1ms/step\n",
      "Epoch 7/100\n",
      "97/97 - 0s - loss: 1225.6664 - 113ms/epoch - 1ms/step\n",
      "Epoch 8/100\n",
      "97/97 - 0s - loss: 1081.7695 - 114ms/epoch - 1ms/step\n",
      "Epoch 9/100\n",
      "97/97 - 0s - loss: 958.8513 - 101ms/epoch - 1ms/step\n",
      "Epoch 10/100\n",
      "97/97 - 0s - loss: 849.0423 - 115ms/epoch - 1ms/step\n",
      "Epoch 11/100\n",
      "97/97 - 0s - loss: 745.9851 - 108ms/epoch - 1ms/step\n",
      "Epoch 12/100\n",
      "97/97 - 0s - loss: 660.1478 - 125ms/epoch - 1ms/step\n",
      "Epoch 13/100\n",
      "97/97 - 0s - loss: 586.1636 - 102ms/epoch - 1ms/step\n",
      "Epoch 14/100\n",
      "97/97 - 0s - loss: 520.8823 - 109ms/epoch - 1ms/step\n",
      "Epoch 15/100\n",
      "97/97 - 0s - loss: 465.0999 - 122ms/epoch - 1ms/step\n",
      "Epoch 16/100\n",
      "97/97 - 0s - loss: 412.9588 - 106ms/epoch - 1ms/step\n",
      "Epoch 17/100\n",
      "97/97 - 0s - loss: 368.4432 - 136ms/epoch - 1ms/step\n",
      "Epoch 18/100\n",
      "97/97 - 0s - loss: 328.7994 - 119ms/epoch - 1ms/step\n",
      "Epoch 19/100\n",
      "97/97 - 0s - loss: 293.4199 - 119ms/epoch - 1ms/step\n",
      "Epoch 20/100\n",
      "97/97 - 0s - loss: 262.4201 - 106ms/epoch - 1ms/step\n",
      "Epoch 21/100\n",
      "97/97 - 0s - loss: 234.9814 - 120ms/epoch - 1ms/step\n",
      "Epoch 22/100\n",
      "97/97 - 0s - loss: 210.6191 - 113ms/epoch - 1ms/step\n",
      "Epoch 23/100\n",
      "97/97 - 0s - loss: 187.8828 - 116ms/epoch - 1ms/step\n",
      "Epoch 24/100\n",
      "97/97 - 0s - loss: 167.7112 - 99ms/epoch - 1ms/step\n",
      "Epoch 25/100\n",
      "97/97 - 0s - loss: 149.9580 - 105ms/epoch - 1ms/step\n",
      "Epoch 26/100\n",
      "97/97 - 0s - loss: 134.2589 - 114ms/epoch - 1ms/step\n",
      "Epoch 27/100\n",
      "97/97 - 0s - loss: 120.7479 - 162ms/epoch - 2ms/step\n",
      "Epoch 28/100\n",
      "97/97 - 0s - loss: 108.2843 - 115ms/epoch - 1ms/step\n",
      "Epoch 29/100\n",
      "97/97 - 0s - loss: 96.6222 - 128ms/epoch - 1ms/step\n",
      "Epoch 30/100\n",
      "97/97 - 0s - loss: 86.7097 - 103ms/epoch - 1ms/step\n",
      "Epoch 31/100\n",
      "97/97 - 0s - loss: 78.1220 - 115ms/epoch - 1ms/step\n",
      "Epoch 32/100\n",
      "97/97 - 0s - loss: 70.7997 - 110ms/epoch - 1ms/step\n",
      "Epoch 33/100\n",
      "97/97 - 0s - loss: 62.4003 - 113ms/epoch - 1ms/step\n",
      "Epoch 34/100\n",
      "97/97 - 0s - loss: 55.4666 - 113ms/epoch - 1ms/step\n",
      "Epoch 35/100\n",
      "97/97 - 0s - loss: 50.1244 - 120ms/epoch - 1ms/step\n",
      "Epoch 36/100\n",
      "97/97 - 0s - loss: 44.7620 - 115ms/epoch - 1ms/step\n",
      "Epoch 37/100\n",
      "97/97 - 0s - loss: 40.1018 - 132ms/epoch - 1ms/step\n",
      "Epoch 38/100\n",
      "97/97 - 0s - loss: 35.6876 - 135ms/epoch - 1ms/step\n",
      "Epoch 39/100\n",
      "97/97 - 0s - loss: 32.3998 - 113ms/epoch - 1ms/step\n",
      "Epoch 40/100\n",
      "97/97 - 0s - loss: 28.6241 - 115ms/epoch - 1ms/step\n",
      "Epoch 41/100\n",
      "97/97 - 0s - loss: 25.8050 - 110ms/epoch - 1ms/step\n",
      "Epoch 42/100\n",
      "97/97 - 0s - loss: 23.0059 - 105ms/epoch - 1ms/step\n",
      "Epoch 43/100\n",
      "97/97 - 0s - loss: 20.4761 - 121ms/epoch - 1ms/step\n",
      "Epoch 44/100\n",
      "97/97 - 0s - loss: 18.3718 - 106ms/epoch - 1ms/step\n",
      "Epoch 45/100\n",
      "97/97 - 0s - loss: 17.3117 - 121ms/epoch - 1ms/step\n",
      "Epoch 46/100\n",
      "97/97 - 0s - loss: 14.8735 - 121ms/epoch - 1ms/step\n",
      "Epoch 47/100\n",
      "97/97 - 0s - loss: 13.2797 - 107ms/epoch - 1ms/step\n",
      "Epoch 48/100\n",
      "97/97 - 0s - loss: 11.8635 - 108ms/epoch - 1ms/step\n",
      "Epoch 49/100\n",
      "97/97 - 0s - loss: 11.5943 - 122ms/epoch - 1ms/step\n",
      "Epoch 50/100\n",
      "97/97 - 0s - loss: 10.1285 - 117ms/epoch - 1ms/step\n",
      "Epoch 51/100\n",
      "97/97 - 0s - loss: 10.4108 - 106ms/epoch - 1ms/step\n",
      "Epoch 52/100\n",
      "97/97 - 0s - loss: 8.1268 - 115ms/epoch - 1ms/step\n",
      "Epoch 53/100\n",
      "97/97 - 0s - loss: 6.7865 - 124ms/epoch - 1ms/step\n",
      "Epoch 54/100\n",
      "97/97 - 0s - loss: 6.0976 - 115ms/epoch - 1ms/step\n",
      "Epoch 55/100\n",
      "97/97 - 0s - loss: 5.6057 - 99ms/epoch - 1ms/step\n",
      "Epoch 56/100\n",
      "97/97 - 0s - loss: 4.9312 - 110ms/epoch - 1ms/step\n",
      "Epoch 57/100\n",
      "97/97 - 0s - loss: 4.3740 - 120ms/epoch - 1ms/step\n",
      "Epoch 58/100\n",
      "97/97 - 0s - loss: 3.9002 - 105ms/epoch - 1ms/step\n",
      "Epoch 59/100\n",
      "97/97 - 0s - loss: 3.6945 - 98ms/epoch - 1ms/step\n",
      "Epoch 60/100\n",
      "97/97 - 0s - loss: 3.3826 - 109ms/epoch - 1ms/step\n",
      "Epoch 61/100\n",
      "97/97 - 0s - loss: 4.1632 - 112ms/epoch - 1ms/step\n",
      "Epoch 62/100\n",
      "97/97 - 0s - loss: 3.0470 - 130ms/epoch - 1ms/step\n",
      "Epoch 63/100\n",
      "97/97 - 0s - loss: 2.3087 - 96ms/epoch - 993us/step\n",
      "Epoch 64/100\n",
      "97/97 - 0s - loss: 2.7457 - 129ms/epoch - 1ms/step\n",
      "Epoch 65/100\n",
      "97/97 - 0s - loss: 2.2892 - 100ms/epoch - 1ms/step\n",
      "Epoch 66/100\n",
      "97/97 - 0s - loss: 1.6885 - 110ms/epoch - 1ms/step\n",
      "Epoch 67/100\n",
      "97/97 - 0s - loss: 1.6347 - 123ms/epoch - 1ms/step\n",
      "Epoch 68/100\n",
      "97/97 - 0s - loss: 2.2985 - 114ms/epoch - 1ms/step\n",
      "Epoch 69/100\n",
      "97/97 - 0s - loss: 1.5653 - 100ms/epoch - 1ms/step\n",
      "Epoch 70/100\n",
      "97/97 - 0s - loss: 1.3540 - 113ms/epoch - 1ms/step\n",
      "Epoch 71/100\n",
      "97/97 - 0s - loss: 1.0019 - 124ms/epoch - 1ms/step\n",
      "Epoch 72/100\n",
      "97/97 - 0s - loss: 1.0469 - 112ms/epoch - 1ms/step\n",
      "Epoch 73/100\n",
      "97/97 - 0s - loss: 2.0271 - 112ms/epoch - 1ms/step\n",
      "Epoch 74/100\n",
      "97/97 - 0s - loss: 1.9302 - 117ms/epoch - 1ms/step\n",
      "Epoch 75/100\n",
      "97/97 - 0s - loss: 0.7269 - 99ms/epoch - 1ms/step\n",
      "Epoch 76/100\n",
      "97/97 - 0s - loss: 0.7021 - 110ms/epoch - 1ms/step\n",
      "Epoch 77/100\n",
      "97/97 - 0s - loss: 3.1425 - 111ms/epoch - 1ms/step\n",
      "Epoch 78/100\n",
      "97/97 - 0s - loss: 1.5241 - 120ms/epoch - 1ms/step\n",
      "Epoch 79/100\n",
      "97/97 - 0s - loss: 1.5698 - 115ms/epoch - 1ms/step\n",
      "Epoch 80/100\n",
      "97/97 - 0s - loss: 1.0112 - 113ms/epoch - 1ms/step\n",
      "Epoch 81/100\n",
      "97/97 - 0s - loss: 0.8599 - 124ms/epoch - 1ms/step\n",
      "Epoch 82/100\n",
      "97/97 - 0s - loss: 0.3906 - 113ms/epoch - 1ms/step\n",
      "Epoch 83/100\n",
      "97/97 - 0s - loss: 0.4199 - 120ms/epoch - 1ms/step\n",
      "Epoch 84/100\n",
      "97/97 - 0s - loss: 0.3746 - 116ms/epoch - 1ms/step\n",
      "Epoch 85/100\n",
      "97/97 - 0s - loss: 0.5284 - 112ms/epoch - 1ms/step\n",
      "Epoch 86/100\n",
      "97/97 - 0s - loss: 1.3305 - 99ms/epoch - 1ms/step\n",
      "Epoch 87/100\n",
      "97/97 - 0s - loss: 0.6658 - 125ms/epoch - 1ms/step\n",
      "Epoch 88/100\n",
      "97/97 - 0s - loss: 0.3035 - 105ms/epoch - 1ms/step\n",
      "Epoch 89/100\n",
      "97/97 - 0s - loss: 0.4144 - 125ms/epoch - 1ms/step\n",
      "Epoch 90/100\n",
      "97/97 - 0s - loss: 0.3206 - 121ms/epoch - 1ms/step\n",
      "Epoch 91/100\n",
      "97/97 - 0s - loss: 0.3228 - 109ms/epoch - 1ms/step\n",
      "Epoch 92/100\n",
      "97/97 - 0s - loss: 0.2467 - 109ms/epoch - 1ms/step\n",
      "Epoch 93/100\n",
      "97/97 - 0s - loss: 0.3989 - 135ms/epoch - 1ms/step\n",
      "Epoch 94/100\n",
      "97/97 - 0s - loss: 0.4302 - 103ms/epoch - 1ms/step\n",
      "Epoch 95/100\n",
      "97/97 - 0s - loss: 0.4742 - 130ms/epoch - 1ms/step\n",
      "Epoch 96/100\n",
      "97/97 - 0s - loss: 0.5514 - 122ms/epoch - 1ms/step\n",
      "Epoch 97/100\n",
      "97/97 - 0s - loss: 0.4657 - 120ms/epoch - 1ms/step\n",
      "Epoch 98/100\n",
      "97/97 - 0s - loss: 1.2796 - 115ms/epoch - 1ms/step\n",
      "Epoch 99/100\n",
      "97/97 - 0s - loss: 0.2033 - 115ms/epoch - 1ms/step\n",
      "Epoch 100/100\n",
      "97/97 - 0s - loss: 0.9299 - 151ms/epoch - 2ms/step\n"
     ]
    },
    {
     "data": {
      "text/plain": [
       "<keras.src.callbacks.History at 0x21a27d62a60>"
      ]
     },
     "execution_count": 6,
     "metadata": {},
     "output_type": "execute_result"
    }
   ],
   "source": [
    "# Train the model\n",
    "model.fit(X, y, epochs=100, batch_size=1, verbose=2)\n"
   ]
  },
  {
   "cell_type": "code",
   "execution_count": 7,
   "id": "29b11c2a",
   "metadata": {},
   "outputs": [
    {
     "name": "stdout",
     "output_type": "stream",
     "text": [
      "1/1 [==============================] - 0s 364ms/step\n",
      "Predicted next value in the sequence: 96.60061\n"
     ]
    }
   ],
   "source": [
    "# Predict the next value in the sequence\n",
    "last_sequence = sequence[-look_back:]  # Take the last `look_back` values\n",
    "last_sequence = np.reshape(last_sequence, (1, look_back, 1))  # Reshape for prediction\n",
    "predicted_value = model.predict(last_sequence)\n",
    "print(\"Predicted next value in the sequence:\", predicted_value[0][0])\n"
   ]
  },
  {
   "cell_type": "code",
   "execution_count": 8,
   "id": "22003154",
   "metadata": {},
   "outputs": [
    {
     "name": "stdout",
     "output_type": "stream",
     "text": [
      "Actual next value in the sequence: 100\n",
      "Error in prediction: 3.3993911743164062\n"
     ]
    }
   ],
   "source": [
    "# Evaluate the model's prediction\n",
    "actual_next_value = sequence[-1] + 1  # Since it's a simple sequence, we know the next value\n",
    "print(\"Actual next value in the sequence:\", actual_next_value)\n",
    "print(\"Error in prediction:\", abs(predicted_value[0][0] - actual_next_value))\n"
   ]
  },
  {
   "cell_type": "code",
   "execution_count": null,
   "id": "27c1f9a4",
   "metadata": {},
   "outputs": [],
   "source": []
  }
 ],
 "metadata": {
  "kernelspec": {
   "display_name": "Python 3 (ipykernel)",
   "language": "python",
   "name": "python3"
  },
  "language_info": {
   "codemirror_mode": {
    "name": "ipython",
    "version": 3
   },
   "file_extension": ".py",
   "mimetype": "text/x-python",
   "name": "python",
   "nbconvert_exporter": "python",
   "pygments_lexer": "ipython3",
   "version": "3.9.13"
  }
 },
 "nbformat": 4,
 "nbformat_minor": 5
}
