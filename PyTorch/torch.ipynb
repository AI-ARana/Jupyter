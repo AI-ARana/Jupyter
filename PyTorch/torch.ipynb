{
 "cells": [
  {
   "cell_type": "code",
   "execution_count": 1,
   "id": "add8a1e5",
   "metadata": {},
   "outputs": [
    {
     "name": "stdout",
     "output_type": "stream",
     "text": [
      "tensor([[0.2469, 0.6752, 0.4157],\n",
      "        [0.7327, 0.7022, 0.3063],\n",
      "        [0.1139, 0.5639, 0.7894],\n",
      "        [0.9554, 0.6715, 0.3190],\n",
      "        [0.6221, 0.9672, 0.0457]])\n"
     ]
    }
   ],
   "source": [
    "import torch\n",
    "x = torch.rand(5, 3)\n",
    "print(x)"
   ]
  },
  {
   "cell_type": "code",
   "execution_count": 2,
   "id": "4d0b70c0",
   "metadata": {},
   "outputs": [
    {
     "name": "stdout",
     "output_type": "stream",
     "text": [
      "Requirement already satisfied: torch in c:\\python312\\lib\\site-packages (2.4.0+cu118)\n",
      "Requirement already satisfied: filelock in c:\\users\\anurag rana\\appdata\\roaming\\python\\python312\\site-packages (from torch) (3.14.0)\n",
      "Requirement already satisfied: typing-extensions>=4.8.0 in c:\\python312\\lib\\site-packages (from torch) (4.12.2)\n",
      "Requirement already satisfied: sympy in c:\\python312\\lib\\site-packages (from torch) (1.13.1)\n",
      "Requirement already satisfied: networkx in c:\\users\\anurag rana\\appdata\\roaming\\python\\python312\\site-packages (from torch) (3.3)\n",
      "Requirement already satisfied: jinja2 in c:\\python312\\lib\\site-packages (from torch) (3.1.4)\n",
      "Requirement already satisfied: fsspec in c:\\users\\anurag rana\\appdata\\roaming\\python\\python312\\site-packages (from torch) (2024.3.1)\n",
      "Requirement already satisfied: setuptools in c:\\python312\\lib\\site-packages (from torch) (75.6.0)\n",
      "Requirement already satisfied: MarkupSafe>=2.0 in c:\\python312\\lib\\site-packages (from jinja2->torch) (3.0.2)\n",
      "Requirement already satisfied: mpmath<1.4,>=1.1.0 in c:\\python312\\lib\\site-packages (from sympy->torch) (1.3.0)\n",
      "Note: you may need to restart the kernel to use updated packages.\n"
     ]
    }
   ],
   "source": [
    "pip install torch\n"
   ]
  },
  {
   "cell_type": "code",
   "execution_count": 3,
   "id": "8eaf5d18",
   "metadata": {},
   "outputs": [
    {
     "name": "stdout",
     "output_type": "stream",
     "text": [
      "tensor([[0.6293, 0.1042, 0.1989],\n",
      "        [0.1732, 0.2791, 0.4172],\n",
      "        [0.1394, 0.2830, 0.2935],\n",
      "        [0.0528, 0.8656, 0.1739],\n",
      "        [0.2454, 0.6367, 0.2641]])\n"
     ]
    }
   ],
   "source": [
    "import torch\n",
    "x = torch.rand(5, 3)\n",
    "print(x)"
   ]
  },
  {
   "cell_type": "code",
   "execution_count": 4,
   "id": "8f9a6536",
   "metadata": {},
   "outputs": [
    {
     "data": {
      "text/plain": [
       "True"
      ]
     },
     "execution_count": 4,
     "metadata": {},
     "output_type": "execute_result"
    }
   ],
   "source": [
    "import torch\n",
    "torch.cuda.is_available()"
   ]
  },
  {
   "cell_type": "code",
   "execution_count": 5,
   "id": "83e86045",
   "metadata": {},
   "outputs": [
    {
     "ename": "ModuleNotFoundError",
     "evalue": "No module named 'cuda'",
     "output_type": "error",
     "traceback": [
      "\u001b[1;31m---------------------------------------------------------------------------\u001b[0m",
      "\u001b[1;31mModuleNotFoundError\u001b[0m                       Traceback (most recent call last)",
      "Cell \u001b[1;32mIn[5], line 1\u001b[0m\n\u001b[1;32m----> 1\u001b[0m \u001b[38;5;28;01mimport\u001b[39;00m \u001b[38;5;21;01mcuda\u001b[39;00m\n\u001b[0;32m      3\u001b[0m \u001b[38;5;66;03m# Create a CUDA kernel\u001b[39;00m\n\u001b[0;32m      4\u001b[0m kernel \u001b[38;5;241m=\u001b[39m cuda\u001b[38;5;241m.\u001b[39mcompile(\u001b[38;5;124m\"\"\"\u001b[39m\n\u001b[0;32m      5\u001b[0m \u001b[38;5;124m    __global__ void add_two_numbers(int *a, int *b, int *c) \u001b[39m\u001b[38;5;124m{\u001b[39m\n\u001b[0;32m      6\u001b[0m \u001b[38;5;124m        int i = threadIdx.x;\u001b[39m\n\u001b[0;32m      7\u001b[0m \u001b[38;5;124m        c[i] = a[i] + b[i];\u001b[39m\n\u001b[0;32m      8\u001b[0m \u001b[38;5;124m    }\u001b[39m\n\u001b[0;32m      9\u001b[0m \u001b[38;5;124m\"\"\"\u001b[39m)\n",
      "\u001b[1;31mModuleNotFoundError\u001b[0m: No module named 'cuda'"
     ]
    }
   ],
   "source": [
    "import cuda\n",
    "\n",
    "# Create a CUDA kernel\n",
    "kernel = cuda.compile(\"\"\"\n",
    "    __global__ void add_two_numbers(int *a, int *b, int *c) {\n",
    "        int i = threadIdx.x;\n",
    "        c[i] = a[i] + b[i];\n",
    "    }\n",
    "\"\"\")\n",
    "\n",
    "# Allocate memory on the GPU\n",
    "a = cuda.alloc(1024)\n",
    "b = cuda.alloc(1024)\n",
    "c = cuda.alloc(1024)\n",
    "\n",
    "# Copy data to the GPU\n",
    "cuda.memcpy(a, [1, 2, 3, 4, 5, 6, 7, 8, 9, 10], 1024)\n",
    "cuda.memcpy(b, [10, 9, 8, 7, 6, 5, 4, 3, 2, 1], 1024)\n",
    "\n",
    "# Launch the kernel\n",
    "kernel(a, b, c, 1024)\n",
    "\n",
    "# Copy data back to the CPU\n",
    "result = cuda.alloc(1024)\n",
    "cuda.memcpy(result, c, 1024)\n",
    "\n",
    "# Print the result\n",
    "print(result)"
   ]
  },
  {
   "cell_type": "code",
   "execution_count": null,
   "id": "f5fe9ff3",
   "metadata": {},
   "outputs": [],
   "source": [
    "pip install cuda\n"
   ]
  },
  {
   "cell_type": "code",
   "execution_count": null,
   "id": "91c6ee99",
   "metadata": {},
   "outputs": [],
   "source": [
    "import cuda"
   ]
  },
  {
   "cell_type": "code",
   "execution_count": null,
   "id": "7d01c1b6",
   "metadata": {},
   "outputs": [],
   "source": []
  }
 ],
 "metadata": {
  "kernelspec": {
   "display_name": "Python 3 (ipykernel)",
   "language": "python",
   "name": "python3"
  },
  "language_info": {
   "codemirror_mode": {
    "name": "ipython",
    "version": 3
   },
   "file_extension": ".py",
   "mimetype": "text/x-python",
   "name": "python",
   "nbconvert_exporter": "python",
   "pygments_lexer": "ipython3",
   "version": "3.12.4"
  }
 },
 "nbformat": 4,
 "nbformat_minor": 5
}
